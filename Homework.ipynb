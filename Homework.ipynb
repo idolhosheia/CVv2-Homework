{
 "cells": [
  {
   "cell_type": "markdown",
   "metadata": {},
   "source": [
    "# HOMEWORK 1\n",
    "\n",
    "After the installation of Anaconda, jupyter notebook and the required virtual environment, you will have to test that everything has been set up correctly. For that purpose, you will have to execute the following code and run it without errors.\n",
    "\n",
    "The code loads an image and creates a picture collage consisting of 4 pictures. Each of the four pictures is a version of the original image with the colour channels swapped.\n",
    "\n",
    "You will have to also finish some part of the code :-)"
   ]
  },
  {
   "cell_type": "code",
   "execution_count": null,
   "metadata": {},
   "outputs": [],
   "source": [
    "import cv2\n",
    "import numpy as np\n",
    "from matplotlib import pyplot as plt\n",
    "plt.rcParams['figure.figsize'] = [15, 10]"
   ]
  },
  {
   "cell_type": "code",
   "execution_count": null,
   "metadata": {
    "scrolled": true
   },
   "outputs": [],
   "source": [
    "# Load an image (you can freely chose any image you like)\n",
    "img = cv2.imread('C:\\Users\\user\\Desktop\\TEST1.png')\n",
    "img.shape\n",
    "\n",
    "# Convert it to RGB\n",
    "img_rgb = cv2.cvtColor(img, cv2.COLOR_BGR2RGB)     \n",
    "\n",
    "# Plot it\n",
    "plt.imshow(img_rgb)\n",
    "plt.axis(False)\n",
    "plt.show()"
   ]
  },
  {
   "cell_type": "markdown",
   "metadata": {},
   "source": [
    "Let's make a collage."
   ]
  },
  {
   "cell_type": "code",
   "execution_count": null,
   "metadata": {},
   "outputs": [],
   "source": [
    "# Split the image into the three colour channels\n",
    "red, green, blue = cv2.split(img)\n",
    "\n",
    "# Compose the image in the RGB colour space\n",
    "img1 = cv2.merge([red, green, blue])\n",
    "\n",
    "# Compose the image in the RBG colour space\n",
    "img2 = cv2.merge([red, blue, green])\n",
    "\n",
    "# Compose the image in the GRB colour space\n",
    "img3 = cv2.merge([green, red, blue])\n",
    "\n",
    "# Compose the image in the BGR colour space\n",
    "img4 = cv2.merge([blue, green, red])\n",
    "\n",
    "# Create the collage\n",
    "out1 = np.hstack([img1, img2])\n",
    "out2 = np.hstack([img3, img4])\n",
    "out = np.vstack([out1, out2])\n",
    "\n",
    "# Plot the collage\n",
    "plt.imshow(out)\n",
    "plt.axis(False)"
   ]
  },
  {
   "cell_type": "markdown",
   "metadata": {},
   "source": [
    "And now you are going to make a simple geometric collage. You need to flip your image both horizontally and vertically to obtain the following result.\n",
    "\n",
    "![alt text](../data/example.jpg \"Title\")\n",
    "\n",
    "You can flip the images \"manually\" but you might also find useful the numpy functions [fliplr](https://numpy.org/doc/stable/reference/generated/numpy.fliplr.html) and [flipud](https://numpy.org/doc/stable/reference/generated/numpy.flipud.html) ;-)."
   ]
  },
  {
   "cell_type": "code",
   "execution_count": null,
   "metadata": {},
   "outputs": [],
   "source": [
    "# Load an image (you can freely chose any image you like)\n",
    "img = cv2.imread('C:\\Users\\user\\Desktop\\TEST1.png')\n",
    "img.shape\n",
    "\n",
    "# Convert it to RGB\n",
    "img_rgb = cv2.cvtColor(img, cv2.COLOR_BGR2RGB)\n",
    "\n",
    "# Make a collage\n",
    "img1_flipped = np.fliplr(img1)\n",
    "img2_flipped = np.flipud(img2)\n",
    "img3_flipped = np.fliplr(img3)\n",
    "img4_flipped = np.flipud(img4)\n",
    "\n",
    "out1 = np.hstack([img1_flipped, img2_flipped])\n",
    "out2 = np.hstack([img3_flipped, img4_flipped])\n",
    "out = np.vstack([out1, out2])\n",
    "\n",
    "# Plot the collage\n",
    "plt.imshow(out)\n",
    "plt.axis(False)"
   ]
  }
 ],
 "metadata": {
  "kernelspec": {
   "display_name": "Python 3 (ipykernel)",
   "language": "python",
   "name": "python3"
  },
  "language_info": {
   "codemirror_mode": {
    "name": "ipython",
    "version": 3
   },
   "file_extension": ".py",
   "mimetype": "text/x-python",
   "name": "python",
   "nbconvert_exporter": "python",
   "pygments_lexer": "ipython3",
   "version": "3.12.9"
  }
 },
 "nbformat": 4,
 "nbformat_minor": 4
}
